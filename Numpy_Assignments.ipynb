{
 "cells": [
  {
   "cell_type": "markdown",
   "metadata": {},
   "source": [
    "# 100 numpy exercises\n",
    "\n",
    "#### 1. Import the numpy package under the name `np`"
   ]
  },
  {
   "cell_type": "code",
   "execution_count": 2,
   "metadata": {},
   "outputs": [],
   "source": [
    "import numpy as np "
   ]
  },
  {
   "cell_type": "markdown",
   "metadata": {},
   "source": [
    "#### 2. Print the numpy version and the configuration "
   ]
  },
  {
   "cell_type": "code",
   "execution_count": 12,
   "metadata": {},
   "outputs": [
    {
     "data": {
      "text/plain": [
       "'1.24.3'"
      ]
     },
     "execution_count": 12,
     "metadata": {},
     "output_type": "execute_result"
    }
   ],
   "source": [
    "np.version.version\n"
   ]
  },
  {
   "cell_type": "markdown",
   "metadata": {},
   "source": [
    "#### 3. Create a null vector of size 10 "
   ]
  },
  {
   "cell_type": "code",
   "execution_count": 15,
   "metadata": {},
   "outputs": [
    {
     "name": "stdout",
     "output_type": "stream",
     "text": [
      "[0. 0. 0. 0. 0. 0. 0. 0. 0. 0.]\n"
     ]
    }
   ],
   "source": [
    "null_vector = np.zeros(10)\n",
    "print(null_vector)\n"
   ]
  },
  {
   "cell_type": "markdown",
   "metadata": {},
   "source": [
    "#### 4. How to find the memory size of any array"
   ]
  },
  {
   "cell_type": "code",
   "execution_count": 16,
   "metadata": {},
   "outputs": [
    {
     "name": "stdout",
     "output_type": "stream",
     "text": [
      "Memory size of our Null vector is:80 bytes\n"
     ]
    }
   ],
   "source": [
    "size = null_vector.nbytes\n",
    "print(f'Memory size of our Null vector is:{size} bytes')"
   ]
  },
  {
   "cell_type": "markdown",
   "metadata": {},
   "source": [
    "#### 5. How to get the documentation of the numpy add function from the command line?"
   ]
  },
  {
   "cell_type": "code",
   "execution_count": null,
   "metadata": {},
   "outputs": [],
   "source": [
    "pydoc numpy.add "
   ]
  },
  {
   "cell_type": "markdown",
   "metadata": {},
   "source": [
    "#### 6. Create a null vector of size 10 but the fifth value which is 1"
   ]
  },
  {
   "cell_type": "code",
   "execution_count": 18,
   "metadata": {},
   "outputs": [
    {
     "name": "stdout",
     "output_type": "stream",
     "text": [
      "[0. 0. 0. 0. 1. 0. 0. 0. 0. 0.]\n"
     ]
    }
   ],
   "source": [
    "null_vector = np.zeros(10)\n",
    "null_vector[4]=1\n",
    "print(null_vector)"
   ]
  },
  {
   "cell_type": "markdown",
   "metadata": {},
   "source": [
    "#### 7. Create a vector with values ranging from 10 to 49"
   ]
  },
  {
   "cell_type": "code",
   "execution_count": 19,
   "metadata": {},
   "outputs": [
    {
     "name": "stdout",
     "output_type": "stream",
     "text": [
      "[10 11 12 13 14 15 16 17 18 19 20 21 22 23 24 25 26 27 28 29 30 31 32 33\n",
      " 34 35 36 37 38 39 40 41 42 43 44 45 46 47 48 49]\n"
     ]
    }
   ],
   "source": [
    "vector = np.arange(10,50)\n",
    "print(vector)"
   ]
  },
  {
   "cell_type": "markdown",
   "metadata": {},
   "source": [
    "#### 8. Reverse a vector (first element becomes last)"
   ]
  },
  {
   "cell_type": "code",
   "execution_count": 20,
   "metadata": {},
   "outputs": [
    {
     "name": "stdout",
     "output_type": "stream",
     "text": [
      "[49 48 47 46 45 44 43 42 41 40 39 38 37 36 35 34 33 32 31 30 29 28 27 26\n",
      " 25 24 23 22 21 20 19 18 17 16 15 14 13 12 11 10]\n"
     ]
    }
   ],
   "source": [
    "reversed_vector = vector[::-1]\n",
    "print(reversed_vector)"
   ]
  },
  {
   "cell_type": "markdown",
   "metadata": {},
   "source": [
    "#### 9. Create a 3x3 matrix with values ranging from 0 to 8"
   ]
  },
  {
   "cell_type": "code",
   "execution_count": 21,
   "metadata": {},
   "outputs": [
    {
     "name": "stdout",
     "output_type": "stream",
     "text": [
      "[[0 1 2]\n",
      " [3 4 5]\n",
      " [6 7 8]]\n"
     ]
    }
   ],
   "source": [
    "matrix = np.array([(0,1,2),(3,4,5),(6,7,8)])\n",
    "print(matrix)"
   ]
  },
  {
   "cell_type": "markdown",
   "metadata": {},
   "source": [
    "#### 10. Find indices of non-zero elements from [1,2,0,0,4,0]"
   ]
  },
  {
   "cell_type": "code",
   "execution_count": 25,
   "metadata": {},
   "outputs": [
    {
     "name": "stdout",
     "output_type": "stream",
     "text": [
      "(array([0, 1, 4], dtype=int64),)\n"
     ]
    }
   ],
   "source": [
    "a = np.array([1,2,0,0,4,0])\n",
    "non_zeros = np.nonzero(a)\n",
    "print(non_zeros)"
   ]
  },
  {
   "cell_type": "markdown",
   "metadata": {},
   "source": [
    "#### 11. Create a 3x3 identity matrix"
   ]
  },
  {
   "cell_type": "code",
   "execution_count": 26,
   "metadata": {},
   "outputs": [
    {
     "name": "stdout",
     "output_type": "stream",
     "text": [
      "[[1. 0. 0.]\n",
      " [0. 1. 0.]\n",
      " [0. 0. 1.]]\n"
     ]
    }
   ],
   "source": [
    "identity_matrix =np.eye(3)\n",
    "print(identity_matrix)"
   ]
  },
  {
   "cell_type": "markdown",
   "metadata": {},
   "source": [
    "#### 12. Create a 3x3x3 array with random values"
   ]
  },
  {
   "cell_type": "code",
   "execution_count": 31,
   "metadata": {},
   "outputs": [
    {
     "name": "stdout",
     "output_type": "stream",
     "text": [
      "[[[0.57411265 0.22442017 0.32358392]\n",
      "  [0.83618248 0.25922891 0.60486008]\n",
      "  [0.67453375 0.6469919  0.90079363]]\n",
      "\n",
      " [[0.55975806 0.97512809 0.20972291]\n",
      "  [0.33540471 0.70690595 0.50972617]\n",
      "  [0.53826548 0.00742863 0.5911576 ]]\n",
      "\n",
      " [[0.39382651 0.32826827 0.34561165]\n",
      "  [0.92412649 0.97370967 0.06428002]\n",
      "  [0.09055879 0.89000461 0.27908015]]]\n"
     ]
    }
   ],
   "source": [
    "array = np.random.rand(3,3,3)\n",
    "print(array)"
   ]
  },
  {
   "cell_type": "markdown",
   "metadata": {},
   "source": [
    "#### 13. Create a 10x10 array with random values and find the minimum and maximum values"
   ]
  },
  {
   "cell_type": "code",
   "execution_count": 41,
   "metadata": {},
   "outputs": [
    {
     "name": "stdout",
     "output_type": "stream",
     "text": [
      "[[0.48623711 0.23742124 0.28644894 0.69354107 0.3936368  0.40922132\n",
      "  0.65251067 0.74184373 0.04708973 0.59128928]\n",
      " [0.35178947 0.64862165 0.47029037 0.91232169 0.28762303 0.22860537\n",
      "  0.38489086 0.50599819 0.62609445 0.24109205]\n",
      " [0.38575636 0.87117822 0.34751907 0.20709022 0.16800001 0.31374579\n",
      "  0.73827585 0.89656551 0.96231545 0.38739463]\n",
      " [0.2284654  0.03420016 0.9913322  0.04763388 0.05665816 0.95516166\n",
      "  0.11935556 0.81678386 0.55972893 0.05162663]\n",
      " [0.50994866 0.48511293 0.5968827  0.86147142 0.27639739 0.15340254\n",
      "  0.84629395 0.74654298 0.88523298 0.64289895]\n",
      " [0.99994999 0.12883469 0.91153172 0.81135229 0.23507366 0.27732768\n",
      "  0.81146923 0.44437024 0.28162711 0.86710755]\n",
      " [0.0176301  0.69831065 0.63486912 0.03099781 0.76604683 0.93256626\n",
      "  0.03771248 0.80468921 0.60240609 0.46423164]\n",
      " [0.57010261 0.71089955 0.42963452 0.60419336 0.90806363 0.25638828\n",
      "  0.32576169 0.14637018 0.63580935 0.17594486]\n",
      " [0.70605464 0.42547999 0.01981486 0.17469714 0.22612148 0.81251409\n",
      "  0.05212764 0.16752069 0.19322387 0.08523275]\n",
      " [0.19291639 0.38065325 0.97231773 0.52201038 0.99699565 0.69340246\n",
      "  0.13618789 0.29512159 0.07651568 0.77587169]]\n",
      "The minimum value is: 0.017630102755067933\n",
      "The maximun Value is: 0.9999499943558391\n"
     ]
    }
   ],
   "source": [
    "array1 = np.random.rand(10,10)\n",
    "\n",
    "minimum_value = np.min(array1)\n",
    "maximum_value = np.max(array1)\n",
    "\n",
    "\n",
    "print(array1)\n",
    "print(f\"The minimum value is: {minimum_value}\")\n",
    "print(f\"The maximun Value is: {maximum_value}\")"
   ]
  },
  {
   "cell_type": "markdown",
   "metadata": {},
   "source": [
    "#### 14. Create a random vector of size 30 and find the mean value"
   ]
  },
  {
   "cell_type": "code",
   "execution_count": 42,
   "metadata": {},
   "outputs": [
    {
     "name": "stdout",
     "output_type": "stream",
     "text": [
      "Vector\n",
      "[0.06806342 0.51459818 0.76528968 0.17121242 0.70428905 0.22761876\n",
      " 0.49638693 0.72380276 0.07321723 0.36451739 0.9305132  0.44521678\n",
      " 0.8183303  0.59099002 0.9309538  0.07233213 0.26176434 0.18133047\n",
      " 0.76612488 0.14875437 0.55137345 0.26410412 0.00370673 0.69634687\n",
      " 0.57821314 0.93506722 0.26446866 0.36141359 0.56017408 0.95647477]\n",
      "mean value: 0.48088829114049925\n"
     ]
    }
   ],
   "source": [
    "vector1 = np.random.rand(30)\n",
    "\n",
    "mean_value = np.mean(vector1)\n",
    "\n",
    "print(\"Vector\")\n",
    "print(vector1)\n",
    "print(\"mean value:\", mean_value)"
   ]
  },
  {
   "cell_type": "markdown",
   "metadata": {},
   "source": [
    "#### 15. Create a 2d array with 1 on the border and 0 inside"
   ]
  },
  {
   "cell_type": "code",
   "execution_count": 52,
   "metadata": {},
   "outputs": [
    {
     "name": "stdout",
     "output_type": "stream",
     "text": [
      "[[1 1 1]\n",
      " [1 0 1]\n",
      " [1 1 1]]\n"
     ]
    }
   ],
   "source": [
    "array_2d = np.array([(1,1,1),(1,0,1),(1,1,1)])\n",
    "print(array_2d)"
   ]
  },
  {
   "cell_type": "markdown",
   "metadata": {},
   "source": [
    "#### 16. How to add a border (filled with 0's) around an existing array?"
   ]
  },
  {
   "cell_type": "code",
   "execution_count": 56,
   "metadata": {},
   "outputs": [
    {
     "name": "stdout",
     "output_type": "stream",
     "text": [
      "[[ 0  0  0]\n",
      " [ 0 -1  0]\n",
      " [ 0  0  0]]\n"
     ]
    }
   ],
   "source": [
    "array_2d2 = np.copy(array_2d-1)\n",
    "\n",
    "print(array_2d2)"
   ]
  },
  {
   "cell_type": "markdown",
   "metadata": {},
   "source": [
    "#### 17. What is the result of the following expression?\n"
   ]
  },
  {
   "cell_type": "code",
   "execution_count": 57,
   "metadata": {},
   "outputs": [
    {
     "data": {
      "text/plain": [
       "False"
      ]
     },
     "execution_count": 57,
     "metadata": {},
     "output_type": "execute_result"
    }
   ],
   "source": [
    "0 * np.nan\n",
    "np.nan == np.nan\n",
    "np.inf > np.nan\n",
    "np.nan - np.nan\n",
    "np.nan in set([np.nan])\n",
    "0.3 == 3 * 0.1"
   ]
  },
  {
   "cell_type": "markdown",
   "metadata": {},
   "source": [
    "#### 18. Create a 5x5 matrix with values 1,2,3,4 just below the diagonal"
   ]
  },
  {
   "cell_type": "code",
   "execution_count": 3,
   "metadata": {},
   "outputs": [
    {
     "name": "stdout",
     "output_type": "stream",
     "text": [
      "[[0 0 0 0 0]\n",
      " [1 0 0 0 0]\n",
      " [1 2 0 0 0]\n",
      " [1 2 3 0 0]\n",
      " [1 2 3 4 0]]\n"
     ]
    }
   ],
   "source": [
    "array3 = np.array([(0,0,0,0,0), (1,0,0,0,0), (1,2,0,0,0), (1,2,3,0,0), (1,2,3,4,0)])\n",
    "print(array3)"
   ]
  },
  {
   "cell_type": "markdown",
   "metadata": {},
   "source": [
    "#### 19. Create a 8x8 matrix and fill it with a checkerboard pattern"
   ]
  },
  {
   "cell_type": "code",
   "execution_count": 6,
   "metadata": {},
   "outputs": [
    {
     "name": "stdout",
     "output_type": "stream",
     "text": [
      "[[0 1 0 1 0 1 0 1]\n",
      " [1 0 1 0 1 0 1 0]\n",
      " [0 1 0 1 0 1 0 1]\n",
      " [1 0 1 0 1 0 1 0]\n",
      " [0 1 0 1 0 1 0 1]\n",
      " [1 0 1 0 1 0 1 0]\n",
      " [0 1 0 1 0 1 0 1]\n",
      " [1 0 1 0 1 0 1 0]]\n"
     ]
    }
   ],
   "source": [
    "matrix2 = np.zeros([8,8], dtype=int)\n",
    "\n",
    "matrix2[1::2, ::2] = 1 \n",
    "matrix2[::2, 1::2] = 1\n",
    "print(matrix2)\n"
   ]
  },
  {
   "cell_type": "markdown",
   "metadata": {},
   "source": [
    "#### 20. Consider a (6,7,8) shape array, what is the index (x,y,z) of the 100th element?"
   ]
  },
  {
   "cell_type": "code",
   "execution_count": 13,
   "metadata": {},
   "outputs": [
    {
     "name": "stdout",
     "output_type": "stream",
     "text": [
      "(array([99], dtype=int64),)\n"
     ]
    }
   ],
   "source": [
    "multiarray = np.random.rand(6,7,8)\n",
    "\n",
    "multiarray2 = multiarray.flatten()\n",
    "\n",
    "index_100th = np.where(multiarray2 == multiarray2[99])\n",
    "\n",
    "print(index_100th)"
   ]
  },
  {
   "cell_type": "markdown",
   "metadata": {},
   "source": [
    "#### 21. Create a checkerboard 8x8 matrix using the tile function"
   ]
  },
  {
   "cell_type": "code",
   "execution_count": 4,
   "metadata": {},
   "outputs": [
    {
     "name": "stdout",
     "output_type": "stream",
     "text": [
      "[[0 1 0 1 0 1 0 1]\n",
      " [1 0 1 0 1 0 1 0]\n",
      " [0 1 0 1 0 1 0 1]\n",
      " [1 0 1 0 1 0 1 0]\n",
      " [0 1 0 1 0 1 0 1]\n",
      " [1 0 1 0 1 0 1 0]\n",
      " [0 1 0 1 0 1 0 1]\n",
      " [1 0 1 0 1 0 1 0]]\n"
     ]
    }
   ],
   "source": [
    "tile = np.array([[0,1], [1,0]])\n",
    "\n",
    "checkboard = np.tile(tile,(4,4))\n",
    "\n",
    "print(checkboard)"
   ]
  },
  {
   "cell_type": "markdown",
   "metadata": {},
   "source": [
    "#### 22. Normalize a 5x5 random matrix"
   ]
  },
  {
   "cell_type": "code",
   "execution_count": 5,
   "metadata": {},
   "outputs": [
    {
     "name": "stdout",
     "output_type": "stream",
     "text": [
      "[[0.96209066 0.48697091 0.8548787  0.26817693 0.46467655]\n",
      " [0.87733911 0.95688114 0.59653445 0.06966059 0.        ]\n",
      " [0.5585907  0.61545037 0.67169984 0.09615715 0.77065854]\n",
      " [0.52107274 1.         0.53820094 0.35450513 0.87537154]\n",
      " [0.24124553 0.63032274 0.47025397 0.40761749 0.95201106]]\n"
     ]
    }
   ],
   "source": [
    "matrix = np.random.rand(5,5)\n",
    "\n",
    "min_val = np.min(matrix)\n",
    "max_val = np.max(matrix)\n",
    "\n",
    "normalized_matrix = (matrix - min_val) / (max_val- min_val)\n",
    "\n",
    "print(normalized_matrix)"
   ]
  },
  {
   "cell_type": "markdown",
   "metadata": {},
   "source": [
    "#### 23. Create a custom dtype that describes a color as four unsigned bytes (RGBA)"
   ]
  },
  {
   "cell_type": "code",
   "execution_count": 6,
   "metadata": {},
   "outputs": [
    {
     "name": "stdout",
     "output_type": "stream",
     "text": [
      "[(255,   0,   0, 255) (  0, 255,   0, 255) (  0,   0, 255, 255)]\n",
      "[255   0   0]\n",
      "[  0 255   0]\n",
      "[  0   0 255]\n",
      "[255 255 255]\n"
     ]
    }
   ],
   "source": [
    "color_dtype = np.dtype([('R', np.uint8), ('G', np.uint8), ('B', np.uint8), ('A', np.uint8)])\n",
    "\n",
    "# Create an array of colors using the custom dtype\n",
    "colors = np.array([(255, 0, 0, 255), (0, 255, 0, 255), (0, 0, 255, 255)], dtype=color_dtype)\n",
    "\n",
    "# Access individual color components\n",
    "red_values = colors['R']\n",
    "green_values = colors['G']\n",
    "blue_values = colors['B']\n",
    "alpha_values = colors['A']\n",
    "\n",
    "# Print the colors array and individual components\n",
    "print(colors)\n",
    "print(red_values)\n",
    "print(green_values)\n",
    "print(blue_values)\n",
    "print(alpha_values)\n"
   ]
  },
  {
   "cell_type": "markdown",
   "metadata": {},
   "source": [
    "#### 24. Multiply a 5x3 matrix by a 3x2 matrix (real matrix product)"
   ]
  },
  {
   "cell_type": "code",
   "execution_count": 13,
   "metadata": {},
   "outputs": [
    {
     "name": "stdout",
     "output_type": "stream",
     "text": [
      "[[1.39954453 0.90590574]\n",
      " [0.8587807  0.38230097]\n",
      " [1.33514982 0.6500737 ]\n",
      " [1.18620592 0.67944252]\n",
      " [0.91309823 0.30691238]]\n"
     ]
    }
   ],
   "source": [
    "matrix_5 = np.random.rand(5,3)\n",
    "\n",
    "matrix_6 = np.random.rand(3,2)\n",
    "\n",
    "print(np.dot(matrix_5, matrix_6))"
   ]
  },
  {
   "cell_type": "markdown",
   "metadata": {},
   "source": [
    "#### 25. Given a 1D array, negate all elements which are between 3 and 8, in place."
   ]
  },
  {
   "cell_type": "code",
   "execution_count": 26,
   "metadata": {},
   "outputs": [
    {
     "name": "stdout",
     "output_type": "stream",
     "text": [
      "[1 2 3 4 5 6 7 8 9]\n",
      "[-4 -5 -6 -7 -8]\n"
     ]
    }
   ],
   "source": [
    "marix_1d = np.array([1,2,3,4,5,6,7,8,9])\n",
    "\n",
    "print(marix_1d)\n",
    "\n",
    "negated = -1*marix_1d[3:8]\n",
    " \n",
    "print(negated)"
   ]
  },
  {
   "cell_type": "markdown",
   "metadata": {},
   "source": [
    "#### 26. What is the output of the following script?"
   ]
  },
  {
   "cell_type": "code",
   "execution_count": 28,
   "metadata": {},
   "outputs": [
    {
     "name": "stdout",
     "output_type": "stream",
     "text": [
      "10\n",
      "10\n"
     ]
    }
   ],
   "source": [
    "print(sum(range(5),-1))\n",
    "from numpy import *\n",
    "print(sum(range(5),-1))"
   ]
  },
  {
   "cell_type": "markdown",
   "metadata": {},
   "source": [
    "#### 27. Consider an integer vector Z, which of these expressions are legal?"
   ]
  },
  {
   "cell_type": "code",
   "execution_count": null,
   "metadata": {},
   "outputs": [],
   "source": [
    "Z**Z                # Correct expression\n",
    "2 << Z >> 2         # Incorrect expression\n",
    "Z <- Z              # Incorrect expression\n",
    "1j*Z                # Incorrect expression\n",
    "Z/1/1               # Correct expression\n",
    "Z<Z>Z               # Correct expression"
   ]
  },
  {
   "cell_type": "markdown",
   "metadata": {},
   "source": [
    "#### 28. What are the result of the following expressions?"
   ]
  },
  {
   "cell_type": "code",
   "execution_count": 29,
   "metadata": {},
   "outputs": [
    {
     "name": "stderr",
     "output_type": "stream",
     "text": [
      "C:\\Users\\user\\AppData\\Local\\Temp\\ipykernel_29328\\548293649.py:1: RuntimeWarning: invalid value encountered in divide\n",
      "  np.array(0) / np.array(0)\n",
      "C:\\Users\\user\\AppData\\Local\\Temp\\ipykernel_29328\\548293649.py:2: RuntimeWarning: divide by zero encountered in floor_divide\n",
      "  np.array(0) // np.array(0)\n",
      "C:\\Users\\user\\AppData\\Local\\Temp\\ipykernel_29328\\548293649.py:3: RuntimeWarning: invalid value encountered in cast\n",
      "  np.array([np.nan]).astype(int).astype(float)\n"
     ]
    },
    {
     "data": {
      "text/plain": [
       "array([-2.14748365e+09])"
      ]
     },
     "execution_count": 29,
     "metadata": {},
     "output_type": "execute_result"
    }
   ],
   "source": [
    "np.array(0) / np.array(0)\n",
    "np.array(0) // np.array(0)\n",
    "np.array([np.nan]).astype(int).astype(float)"
   ]
  },
  {
   "cell_type": "markdown",
   "metadata": {},
   "source": [
    "#### 29. How to round away from zero a float array ?"
   ]
  },
  {
   "cell_type": "code",
   "execution_count": 31,
   "metadata": {},
   "outputs": [
    {
     "name": "stdout",
     "output_type": "stream",
     "text": [
      "[ 2.  4.  7.  9.  9. 11.  6.  7.]\n"
     ]
    }
   ],
   "source": [
    "arr = np.array([1.2, 3.2, 6.4, 8.3, 8.9, 10.1, 5.5, 6.2])\n",
    "\n",
    "round_arr = np.where(arr>=0, np.ceil(arr), np.floor(arr))\n",
    "\n",
    "print(round_arr)"
   ]
  },
  {
   "cell_type": "markdown",
   "metadata": {},
   "source": [
    "#### 30. How to find common values between two arrays?"
   ]
  },
  {
   "cell_type": "code",
   "execution_count": 32,
   "metadata": {},
   "outputs": [
    {
     "name": "stdout",
     "output_type": "stream",
     "text": [
      "[5 6]\n"
     ]
    }
   ],
   "source": [
    "arr1 = np.array([1,2,3,4,5,6])\n",
    "arr2 = np.array([5,6,7,8,9])\n",
    "\n",
    "common_value = np.intersect1d( arr1, arr2)\n",
    "\n",
    "print(common_value)"
   ]
  },
  {
   "cell_type": "markdown",
   "metadata": {},
   "source": [
    "#### 31. How to ignore all numpy warnings (not recommended)?"
   ]
  },
  {
   "cell_type": "code",
   "execution_count": 36,
   "metadata": {},
   "outputs": [],
   "source": [
    "import warnings\n",
    "import numpy as np\n",
    "\n",
    "# Ignore all NumPy warnings\n",
    "warnings.filterwarnings(\"ignore\", category=np.VisibleDeprecationWarning)\n",
    "warnings.filterwarnings(\"ignore\", category=np.RankWarning)\n",
    "\n"
   ]
  },
  {
   "cell_type": "markdown",
   "metadata": {},
   "source": [
    "#### 32. Is the following expressions true?"
   ]
  },
  {
   "cell_type": "code",
   "execution_count": 37,
   "metadata": {},
   "outputs": [
    {
     "name": "stderr",
     "output_type": "stream",
     "text": [
      "C:\\Users\\user\\AppData\\Local\\Temp\\ipykernel_29328\\244602691.py:1: RuntimeWarning: invalid value encountered in sqrt\n",
      "  np.sqrt(-1) == np.emath.sqrt(-1)\n"
     ]
    },
    {
     "data": {
      "text/plain": [
       "False"
      ]
     },
     "execution_count": 37,
     "metadata": {},
     "output_type": "execute_result"
    }
   ],
   "source": [
    "np.sqrt(-1) == np.emath.sqrt(-1)"
   ]
  },
  {
   "cell_type": "markdown",
   "metadata": {},
   "source": [
    "#### 33. How to get the dates of yesterday, today and tomorrow?"
   ]
  },
  {
   "cell_type": "code",
   "execution_count": 1,
   "metadata": {},
   "outputs": [
    {
     "name": "stdout",
     "output_type": "stream",
     "text": [
      "Yesterday: 2024-02-04\n",
      "Today: 2024-02-05\n",
      "Tomorrow: 2024-02-06\n"
     ]
    }
   ],
   "source": [
    "import numpy as np\n",
    "import datetime\n",
    "\n",
    "# Get today's date\n",
    "today = datetime.date.today()\n",
    "\n",
    "# Calculate yesterday and tomorrow\n",
    "yesterday = today - datetime.timedelta(days=1)\n",
    "tomorrow = today + datetime.timedelta(days=1)\n",
    "\n",
    "print(\"Yesterday:\", yesterday)\n",
    "print(\"Today:\", today)\n",
    "print(\"Tomorrow:\", tomorrow)"
   ]
  },
  {
   "cell_type": "markdown",
   "metadata": {},
   "source": [
    "#### 34. How to get all the dates corresponding to the month of July 2016?"
   ]
  },
  {
   "cell_type": "code",
   "execution_count": 2,
   "metadata": {},
   "outputs": [
    {
     "name": "stdout",
     "output_type": "stream",
     "text": [
      "All dates in July 2016:\n",
      "['2016-07-01' '2016-07-02' '2016-07-03' '2016-07-04' '2016-07-05'\n",
      " '2016-07-06' '2016-07-07' '2016-07-08' '2016-07-09' '2016-07-10'\n",
      " '2016-07-11' '2016-07-12' '2016-07-13' '2016-07-14' '2016-07-15'\n",
      " '2016-07-16' '2016-07-17' '2016-07-18' '2016-07-19' '2016-07-20'\n",
      " '2016-07-21' '2016-07-22' '2016-07-23' '2016-07-24' '2016-07-25'\n",
      " '2016-07-26' '2016-07-27' '2016-07-28' '2016-07-29' '2016-07-30'\n",
      " '2016-07-31']\n"
     ]
    }
   ],
   "source": [
    "import numpy as np\n",
    "import datetime\n",
    "\n",
    "# Define the start and end dates for July 2016\n",
    "start_date = datetime.date(2016, 7, 1)\n",
    "end_date = datetime.date(2016, 7, 31)\n",
    "\n",
    "# Generate an array of dates\n",
    "all_dates = np.arange(start_date, end_date + datetime.timedelta(days=1), dtype='datetime64')\n",
    "\n",
    "print(\"All dates in July 2016:\")\n",
    "print(all_dates)"
   ]
  },
  {
   "cell_type": "markdown",
   "metadata": {},
   "source": [
    "#### 35. How to compute ((A+B)*(-A/2)) in place (without copy)?"
   ]
  },
  {
   "cell_type": "code",
   "execution_count": 3,
   "metadata": {},
   "outputs": [
    {
     "name": "stdout",
     "output_type": "stream",
     "text": [
      "Result: [ -2.5  -7.  -13.5]\n"
     ]
    }
   ],
   "source": [
    "A = np.array([1, 2, 3])\n",
    "B = np.array([4, 5, 6])\n",
    "\n",
    "# Perform the computation in place\n",
    "result = np.multiply(np.add(A, B), np.divide(-A, 2))\n",
    "\n",
    "print(\"Result:\", result)"
   ]
  },
  {
   "cell_type": "markdown",
   "metadata": {},
   "source": [
    "#### 36. Extract the integer part of a random array of positive numbers using 4 different methods"
   ]
  },
  {
   "cell_type": "code",
   "execution_count": 5,
   "metadata": {},
   "outputs": [
    {
     "name": "stdout",
     "output_type": "stream",
     "text": [
      "Original array: [3.33684042 4.79359523 9.43287583 1.24223099 8.16377776]\n",
      "Method 1: [3. 4. 9. 1. 8.]\n",
      "Method 2: [3. 4. 9. 1. 8.]\n",
      "Method 3: [3 4 9 1 8]\n",
      "Method 4: [3 5 9 1 8]\n"
     ]
    }
   ],
   "source": [
    "random_array = np.random.rand(5) * 10  # Adjust the size as needed\n",
    "\n",
    "# Method 1: Using np.floor\n",
    "method1 = np.floor(random_array)\n",
    "\n",
    "# Method 2: Using np.trunc\n",
    "method2 = np.trunc(random_array)\n",
    "\n",
    "# Method 3: Using np.astype(int)\n",
    "method3 = random_array.astype(int)\n",
    "\n",
    "# Method 4: Using np.around\n",
    "method4 = np.around(random_array).astype(int)\n",
    "\n",
    "print(\"Original array:\", random_array)\n",
    "print(\"Method 1:\", method1)\n",
    "print(\"Method 2:\", method2)\n",
    "print(\"Method 3:\", method3)\n",
    "print(\"Method 4:\", method4)\n"
   ]
  },
  {
   "cell_type": "markdown",
   "metadata": {},
   "source": [
    "#### 37. Create a 5x5 matrix with row values ranging from 0 to 4"
   ]
  },
  {
   "cell_type": "code",
   "execution_count": 6,
   "metadata": {},
   "outputs": [
    {
     "name": "stdout",
     "output_type": "stream",
     "text": [
      "Matrix:\n",
      "[[0 1 2 3 4]\n",
      " [0 1 2 3 4]\n",
      " [0 1 2 3 4]\n",
      " [0 1 2 3 4]\n",
      " [0 1 2 3 4]]\n"
     ]
    }
   ],
   "source": [
    "matrix = np.tile(np.arange(5), (5, 1))\n",
    "\n",
    "print(\"Matrix:\")\n",
    "print(matrix)"
   ]
  },
  {
   "cell_type": "markdown",
   "metadata": {},
   "source": [
    "#### 38. Consider a generator function that generates 10 integers and use it to build an array"
   ]
  },
  {
   "cell_type": "code",
   "execution_count": 7,
   "metadata": {},
   "outputs": [
    {
     "name": "stdout",
     "output_type": "stream",
     "text": [
      "Array from generator: [0 1 2 3 4 5 6 7 8 9]\n"
     ]
    }
   ],
   "source": [
    "def my_generator():\n",
    "    for i in range(10):\n",
    "        yield i\n",
    "\n",
    "# Create an array from the generator\n",
    "array_from_generator = np.fromiter(my_generator(), dtype=int)\n",
    "\n",
    "print(\"Array from generator:\", array_from_generator)"
   ]
  },
  {
   "cell_type": "markdown",
   "metadata": {},
   "source": [
    "#### 39. Create a vector of size 10 with values ranging from 0 to 1, both excluded"
   ]
  },
  {
   "cell_type": "code",
   "execution_count": 8,
   "metadata": {},
   "outputs": [
    {
     "name": "stdout",
     "output_type": "stream",
     "text": [
      "Vector:\n",
      "[0.09090909 0.18181818 0.27272727 0.36363636 0.45454545 0.54545455\n",
      " 0.63636364 0.72727273 0.81818182 0.90909091]\n"
     ]
    }
   ],
   "source": [
    "vector = np.linspace(0, 1, 12)[1:-1]\n",
    "\n",
    "print(\"Vector:\")\n",
    "print(vector)"
   ]
  },
  {
   "cell_type": "markdown",
   "metadata": {},
   "source": [
    "#### 40. Create a random vector of size 10 and sort it"
   ]
  },
  {
   "cell_type": "code",
   "execution_count": 9,
   "metadata": {},
   "outputs": [
    {
     "name": "stdout",
     "output_type": "stream",
     "text": [
      "Random vector: [0.50030664 0.24966474 0.70860365 0.71289236 0.37184858 0.7278192\n",
      " 0.50131197 0.95213854 0.52535837 0.43324062]\n",
      "Sorted vector: [0.24966474 0.37184858 0.43324062 0.50030664 0.50131197 0.52535837\n",
      " 0.70860365 0.71289236 0.7278192  0.95213854]\n"
     ]
    }
   ],
   "source": [
    "random_vector = np.random.rand(10)\n",
    "\n",
    "# Sort the vector\n",
    "sorted_vector = np.sort(random_vector)\n",
    "\n",
    "print(\"Random vector:\", random_vector)\n",
    "print(\"Sorted vector:\", sorted_vector)"
   ]
  },
  {
   "cell_type": "markdown",
   "metadata": {},
   "source": [
    "#### 41. How to sum a small array faster than np.sum?"
   ]
  },
  {
   "cell_type": "code",
   "execution_count": 10,
   "metadata": {},
   "outputs": [
    {
     "name": "stdout",
     "output_type": "stream",
     "text": [
      "Sum of small_array: 15\n"
     ]
    }
   ],
   "source": [
    "small_array = np.array([1, 2, 3, 4, 5])\n",
    "\n",
    "# Faster summation using np.add.reduce()\n",
    "result = np.add.reduce(small_array)\n",
    "\n",
    "print(\"Sum of small_array:\", result)"
   ]
  },
  {
   "cell_type": "markdown",
   "metadata": {},
   "source": [
    "#### 42. Consider two random array A and B, check if they are equal"
   ]
  },
  {
   "cell_type": "code",
   "execution_count": 11,
   "metadata": {},
   "outputs": [
    {
     "name": "stdout",
     "output_type": "stream",
     "text": [
      "Are A and B equal? True\n"
     ]
    }
   ],
   "source": [
    "A = np.array([1, 2, 3])\n",
    "B = np.array([1, 2, 3])\n",
    "\n",
    "# Check if A and B are equal\n",
    "are_equal = np.array_equal(A, B)\n",
    "\n",
    "print(\"Are A and B equal?\", are_equal)"
   ]
  },
  {
   "cell_type": "markdown",
   "metadata": {},
   "source": [
    "#### 43. Make an array immutable (read-only)"
   ]
  },
  {
   "cell_type": "code",
   "execution_count": 12,
   "metadata": {},
   "outputs": [
    {
     "name": "stdout",
     "output_type": "stream",
     "text": [
      "Is the array read-only? False\n"
     ]
    }
   ],
   "source": [
    "my_array = np.array([1, 2, 3])\n",
    "\n",
    "# Make the array read-only\n",
    "my_array.flags.writeable = False\n",
    "\n",
    "# Try to modify the array (will raise an error)\n",
    "# my_array[0] = 10\n",
    "\n",
    "print(\"Is the array read-only?\", my_array.flags.writeable)"
   ]
  },
  {
   "cell_type": "markdown",
   "metadata": {},
   "source": [
    "#### 44. Consider a random 10x2 matrix representing cartesian coordinates, convert them to polar coordinates"
   ]
  },
  {
   "cell_type": "code",
   "execution_count": 14,
   "metadata": {},
   "outputs": [
    {
     "name": "stdout",
     "output_type": "stream",
     "text": [
      "Polar coordinates (r, theta):\n",
      "r: [0.73689586 1.08170352 0.70230097 0.79415912 1.013793   0.50767164\n",
      " 0.98302774 0.31860182 1.16001761 0.71190139]\n",
      "theta: [0.6966672  0.58573033 1.52462895 1.30006705 0.56846286 0.71035902\n",
      " 0.5854046  1.52609271 1.0045182  0.36835951]\n"
     ]
    }
   ],
   "source": [
    "cartesian_matrix = np.random.rand(10, 2)\n",
    "\n",
    "# Convert to polar coordinates\n",
    "r = np.hypot(cartesian_matrix[:, 0], cartesian_matrix[:, 1])\n",
    "theta = np.arctan2(cartesian_matrix[:, 1], cartesian_matrix[:, 0])\n",
    "\n",
    "print(\"Polar coordinates (r, theta):\")\n",
    "print(\"r:\", r)\n",
    "print(\"theta:\", theta)"
   ]
  },
  {
   "cell_type": "markdown",
   "metadata": {},
   "source": [
    "#### 45. Create random vector of size 10 and replace the maximum value by 0"
   ]
  },
  {
   "cell_type": "code",
   "execution_count": 16,
   "metadata": {},
   "outputs": [
    {
     "name": "stdout",
     "output_type": "stream",
     "text": [
      "Random vector with max replaced by 0:\n",
      "[0.20518918 0.         0.37712004 0.25147939 0.14294543 0.50811363\n",
      " 0.94704057 0.3103697  0.90631952 0.7191082 ]\n"
     ]
    }
   ],
   "source": [
    "random_vector = np.random.rand(10)\n",
    "\n",
    "# Find the index of the maximum value\n",
    "max_index = np.argmax(random_vector)\n",
    "\n",
    "# Replace the maximum value with 0\n",
    "random_vector[max_index] = 0\n",
    "\n",
    "print(\"Random vector with max replaced by 0:\")\n",
    "print(random_vector)"
   ]
  },
  {
   "cell_type": "markdown",
   "metadata": {},
   "source": [
    "#### 46. Create a structured array with `x` and `y` coordinates covering the [0,1]x[0,1] area"
   ]
  },
  {
   "cell_type": "code",
   "execution_count": 17,
   "metadata": {},
   "outputs": [
    {
     "name": "stdout",
     "output_type": "stream",
     "text": [
      "Structured array:\n",
      "[[(0.  , 0.  ) (0.25, 0.  ) (0.5 , 0.  ) (0.75, 0.  ) (1.  , 0.  )]\n",
      " [(0.  , 0.25) (0.25, 0.25) (0.5 , 0.25) (0.75, 0.25) (1.  , 0.25)]\n",
      " [(0.  , 0.5 ) (0.25, 0.5 ) (0.5 , 0.5 ) (0.75, 0.5 ) (1.  , 0.5 )]\n",
      " [(0.  , 0.75) (0.25, 0.75) (0.5 , 0.75) (0.75, 0.75) (1.  , 0.75)]\n",
      " [(0.  , 1.  ) (0.25, 1.  ) (0.5 , 1.  ) (0.75, 1.  ) (1.  , 1.  )]]\n"
     ]
    }
   ],
   "source": [
    "x_coords, y_coords = np.meshgrid(np.linspace(0, 1, 5), np.linspace(0, 1, 5))\n",
    "\n",
    "# Create a structured array\n",
    "structured_array = np.empty((5, 5), dtype=[('x', float), ('y', float)])\n",
    "structured_array['x'] = x_coords\n",
    "structured_array['y'] = y_coords\n",
    "\n",
    "print(\"Structured array:\")\n",
    "print(structured_array)"
   ]
  },
  {
   "cell_type": "markdown",
   "metadata": {},
   "source": [
    "#### 47. Given two arrays, X and Y, construct the Cauchy matrix C (Cij =1/(xi - yj))"
   ]
  },
  {
   "cell_type": "code",
   "execution_count": 18,
   "metadata": {},
   "outputs": [
    {
     "name": "stdout",
     "output_type": "stream",
     "text": [
      "Cauchy matrix C:\n",
      "[[-0.33333333 -0.25       -0.2       ]\n",
      " [-0.5        -0.33333333 -0.25      ]\n",
      " [-1.         -0.5        -0.33333333]]\n"
     ]
    }
   ],
   "source": [
    "X = np.array([1, 2, 3])\n",
    "Y = np.array([4, 5, 6])\n",
    "\n",
    "# Construct the Cauchy matrix\n",
    "C = 1 / (X[:, np.newaxis] - Y)\n",
    "\n",
    "print(\"Cauchy matrix C:\")\n",
    "print(C)"
   ]
  },
  {
   "cell_type": "markdown",
   "metadata": {},
   "source": [
    "#### 48. Print the minimum and maximum representable value for each numpy scalar type"
   ]
  },
  {
   "cell_type": "code",
   "execution_count": 19,
   "metadata": {},
   "outputs": [
    {
     "name": "stdout",
     "output_type": "stream",
     "text": [
      "int8: Min = -128, Max = 127\n",
      "int16: Min = -32768, Max = 32767\n",
      "int32: Min = -2147483648, Max = 2147483647\n",
      "int64: Min = -9223372036854775808, Max = 9223372036854775807\n",
      "float16: Min = -65504.0, Max = 65504.0\n",
      "float32: Min = -3.4028234663852886e+38, Max = 3.4028234663852886e+38\n",
      "float64: Min = -1.7976931348623157e+308, Max = 1.7976931348623157e+308\n"
     ]
    }
   ],
   "source": [
    "for dtype in [np.int8, np.int16, np.int32, np.int64]:\n",
    "    info = np.iinfo(dtype)\n",
    "    print(f\"{dtype.__name__}: Min = {info.min}, Max = {info.max}\")\n",
    "\n",
    "# Floating-point types\n",
    "for dtype in [np.float16, np.float32, np.float64]:\n",
    "    info = np.finfo(dtype)\n",
    "    print(f\"{dtype.__name__}: Min = {info.min}, Max = {info.max}\")"
   ]
  },
  {
   "cell_type": "markdown",
   "metadata": {},
   "source": [
    "#### 49. How to print all the values of an array?"
   ]
  },
  {
   "cell_type": "code",
   "execution_count": 20,
   "metadata": {},
   "outputs": [
    {
     "name": "stdout",
     "output_type": "stream",
     "text": [
      "All values of the array:\n",
      "[1 2 3 4 5]\n"
     ]
    }
   ],
   "source": [
    "my_array = np.array([1, 2, 3, 4, 5])\n",
    "\n",
    "# Set print options to display all values\n",
    "np.set_printoptions(threshold=np.inf)\n",
    "\n",
    "print(\"All values of the array:\")\n",
    "print(my_array)"
   ]
  },
  {
   "cell_type": "markdown",
   "metadata": {},
   "source": [
    "#### 50. How to find the closest value (to a given scalar) in a vector?"
   ]
  },
  {
   "cell_type": "code",
   "execution_count": 21,
   "metadata": {},
   "outputs": [
    {
     "name": "stdout",
     "output_type": "stream",
     "text": [
      "Closest value to 4.0: 3.4\n"
     ]
    }
   ],
   "source": [
    "vector = np.array([1.2, 3.4, 5.6, 7.8])\n",
    "\n",
    "# Given scalar\n",
    "scalar = 4.0\n",
    "\n",
    "# Find the index of the closest value\n",
    "closest_index = np.argmin(np.abs(vector - scalar))\n",
    "\n",
    "# Get the closest value\n",
    "closest_value = vector[closest_index]\n",
    "\n",
    "print(f\"Closest value to {scalar}: {closest_value}\")"
   ]
  },
  {
   "cell_type": "markdown",
   "metadata": {},
   "source": [
    "#### 51. Create a structured array representing a position (x,y) and a color (r,g,b)"
   ]
  },
  {
   "cell_type": "code",
   "execution_count": 22,
   "metadata": {},
   "outputs": [
    {
     "name": "stdout",
     "output_type": "stream",
     "text": [
      "Structured array:\n"
     ]
    }
   ],
   "source": [
    "dtype = np.dtype([('position', [('x', float), ('y', float)]),\n",
    "                  ('color', [('r', int), ('g', int), ('b', int)])])\n",
    "\n",
    "structured_array = np.zeros(1, dtype=dtype)\n",
    "\n",
    "# Set values\n",
    "structured_array['position']['x'] = 1.0\n",
    "structured_array['position']['y'] = 2.0\n",
    "structured_array['color']['r'] = 255\n",
    "structured_array['color']['g'] = 128\n",
    "structured_array['color']['b'] = 0\n",
    "\n",
    "print(\"Structured array:\")"
   ]
  },
  {
   "cell_type": "markdown",
   "metadata": {},
   "source": [
    "#### 52. Consider a random vector with shape (100,2) representing coordinates, find point by point distances"
   ]
  },
  {
   "cell_type": "code",
   "execution_count": 23,
   "metadata": {},
   "outputs": [
    {
     "name": "stdout",
     "output_type": "stream",
     "text": [
      "Distances:\n",
      "[0.90751034 0.6320804  0.4644356  0.82382322 0.97717954 1.30248935\n",
      " 1.02135923 0.95981601 1.11184494 0.47182869 0.60180495 1.09324957\n",
      " 0.88803541 0.53827509 1.00590529 0.33447795 0.51294325 0.119209\n",
      " 0.91701878 1.29900765 0.94331158 0.15511236 0.4656932  0.75113832\n",
      " 0.38645796 0.72827774 1.17235472 0.86276038 1.06380829 0.51382466\n",
      " 0.75073811 0.40365662 0.64598625 0.6242715  0.48455773 0.47534065\n",
      " 0.52087308 1.13052789 0.98781357 1.11754821 1.01105099 0.89049593\n",
      " 1.1464428  0.95870638 0.719152   0.78376239 0.94737841 0.99667582\n",
      " 0.87307459 0.49828082 0.36955086 1.0364481  0.31730622 0.937667\n",
      " 0.88583419 0.53943526 0.89537844 1.11734037 0.56015928 0.28652328\n",
      " 0.91865592 0.86055053 0.54675148 1.10707493 0.30839572 0.31917916\n",
      " 0.4152265  0.3803421  0.99428267 0.68826596 0.81780274 0.93530267\n",
      " 0.94415096 0.88952445 0.47007776 0.76166799 0.61662315 0.85884161\n",
      " 0.9997366  0.77462819 1.12380212 0.79148968 1.21436036 0.57438773\n",
      " 0.91888371 0.37505911 1.03172436 0.72529464 0.96931996 0.69328508\n",
      " 0.75825909 0.97881313 0.97536373 0.58190561 1.01086154 0.72324577\n",
      " 1.10563357 1.06963612 0.90969972 0.33736752]\n"
     ]
    }
   ],
   "source": [
    "random_vector = np.random.rand(100, 2)\n",
    "\n",
    "# Compute point-by-point distances\n",
    "distances = np.linalg.norm(random_vector, axis=1)\n",
    "\n",
    "print(\"Distances:\")\n",
    "print(distances)"
   ]
  },
  {
   "cell_type": "markdown",
   "metadata": {},
   "source": [
    "#### 53. How to convert a float (32 bits) array into an integer (32 bits) in place?"
   ]
  },
  {
   "cell_type": "code",
   "execution_count": 24,
   "metadata": {},
   "outputs": [
    {
     "name": "stdout",
     "output_type": "stream",
     "text": [
      "Integer array:\n",
      "[1 2 3]\n"
     ]
    }
   ],
   "source": [
    "float_array = np.array([1.2, 2.3, 3.4], dtype=np.float32)\n",
    "\n",
    "# Convert to integer array in place\n",
    "float_array = float_array.astype(np.int32)\n",
    "\n",
    "print(\"Integer array:\")\n",
    "print(float_array)"
   ]
  },
  {
   "cell_type": "markdown",
   "metadata": {},
   "source": [
    "#### 54. How to read the following file?"
   ]
  },
  {
   "cell_type": "code",
   "execution_count": 27,
   "metadata": {},
   "outputs": [
    {
     "ename": "SyntaxError",
     "evalue": "invalid syntax (4090680333.py, line 1)",
     "output_type": "error",
     "traceback": [
      "\u001b[1;36m  Cell \u001b[1;32mIn[27], line 1\u001b[1;36m\u001b[0m\n\u001b[1;33m    ac = np.array([(1, 2, 3, 4, 5), (6,  ,  , 7, 8), (,  , 9,10,11)])\u001b[0m\n\u001b[1;37m                                         ^\u001b[0m\n\u001b[1;31mSyntaxError\u001b[0m\u001b[1;31m:\u001b[0m invalid syntax\n"
     ]
    }
   ],
   "source": [
    "ac = np.array([(1, 2, 3, 4, 5), (6,  ,  , 7, 8), (,  , 9,10,11)])\n",
    "\n",
    "# Read the file (replace with the actual file path)\n",
    "file_path = ac\n",
    "data = np.genfromtxt(file_path, delimiter=',')\n",
    "\n",
    "print(\"Data from the file:\")\n",
    "print(data)"
   ]
  },
  {
   "cell_type": "markdown",
   "metadata": {},
   "source": [
    "#### 56. Generate a generic 2D Gaussian-like array"
   ]
  },
  {
   "cell_type": "code",
   "execution_count": 1,
   "metadata": {},
   "outputs": [
    {
     "name": "stdout",
     "output_type": "stream",
     "text": [
      "Generated 2D Gaussian-like array:\n",
      "[[ 0.78950144  1.95828479 -0.04356521 -0.28272704 -0.96362589]\n",
      " [ 0.34561739 -0.07939218 -0.93508147  1.28200761 -1.29848083]\n",
      " [ 1.31415684 -0.14471416 -0.04367082 -0.28426271  0.45613503]\n",
      " [ 0.05720488  0.31038811 -1.50429124 -0.93184732  0.4073208 ]\n",
      " [ 0.24725666  0.55862137  1.12220358  1.12209846 -1.57644406]]\n"
     ]
    }
   ],
   "source": [
    "\n",
    "import numpy as np\n",
    "\n",
    "# Define parameters\n",
    "rows, cols = 5, 5\n",
    "mean = 0\n",
    "std_dev = 1\n",
    "\n",
    "# Generate a 2D Gaussian-like array\n",
    "gaussian_array = np.random.normal(mean, std_dev, size=(rows, cols))\n",
    "\n",
    "print(\"Generated 2D Gaussian-like array:\")\n",
    "print(gaussian_array)\n"
   ]
  },
  {
   "cell_type": "markdown",
   "metadata": {},
   "source": [
    "#### 57. How to randomly place p elements in a 2D array?"
   ]
  },
  {
   "cell_type": "code",
   "execution_count": 2,
   "metadata": {},
   "outputs": [
    {
     "name": "stdout",
     "output_type": "stream",
     "text": [
      "2D array with randomly placed elements:\n",
      "[[0. 0. 1. 0. 0.]\n",
      " [0. 0. 0. 0. 1.]\n",
      " [0. 0. 0. 0. 0.]\n",
      " [0. 0. 1. 0. 0.]\n",
      " [1. 0. 1. 0. 0.]]\n"
     ]
    }
   ],
   "source": [
    "# Create an empty 2D array\n",
    "arr = np.zeros((rows, cols))\n",
    "\n",
    "# Randomly place 'p' elements\n",
    "p = 5\n",
    "random_indices = np.random.choice(rows * cols, p, replace=False)\n",
    "arr.flat[random_indices] = 1\n",
    "\n",
    "print(\"2D array with randomly placed elements:\")\n",
    "print(arr)\n"
   ]
  },
  {
   "cell_type": "markdown",
   "metadata": {},
   "source": [
    "#### 58. Subtract the mean of each row of a matrix"
   ]
  },
  {
   "cell_type": "code",
   "execution_count": 3,
   "metadata": {},
   "outputs": [
    {
     "name": "stdout",
     "output_type": "stream",
     "text": [
      "Matrix with row means subtracted:\n",
      "[[ 0.41182006 -0.35730949  0.25107397 -0.32659456  0.02101001]\n",
      " [-0.0831618  -0.35726336  0.08047986  0.35829079  0.00165452]\n",
      " [ 0.35354358 -0.51384383  0.33503996 -0.03174903 -0.14299068]\n",
      " [-0.06929795 -0.15262112  0.49075797 -0.14780983 -0.12102906]\n",
      " [-0.31992665  0.29852575  0.26786085 -0.42490318  0.17844324]]\n"
     ]
    }
   ],
   "source": [
    "# Create a sample matrix\n",
    "matrix = np.random.rand(rows, cols)\n",
    "\n",
    "# Subtract row means\n",
    "row_means = np.mean(matrix, axis=1, keepdims=True)\n",
    "centered_matrix = matrix - row_means\n",
    "\n",
    "print(\"Matrix with row means subtracted:\")\n",
    "print(centered_matrix)\n"
   ]
  },
  {
   "cell_type": "markdown",
   "metadata": {},
   "source": [
    "#### 59. How to sort an array by the nth column?"
   ]
  },
  {
   "cell_type": "code",
   "execution_count": 4,
   "metadata": {},
   "outputs": [
    {
     "name": "stdout",
     "output_type": "stream",
     "text": [
      "Array sorted by the 2nd column:\n",
      "[[7 0 9 9 5]\n",
      " [3 4 7 8 0]\n",
      " [0 5 5 9 1]\n",
      " [0 8 1 8 2]\n",
      " [5 8 4 1 8]]\n"
     ]
    }
   ],
   "source": [
    "# Create a sample 2D array\n",
    "array = np.random.randint(0, 10, size=(rows, cols))\n",
    "\n",
    "# Sort by the 2nd column (index 1)\n",
    "sorted_array = array[array[:, 1].argsort()]\n",
    "\n",
    "print(\"Array sorted by the 2nd column:\")\n",
    "print(sorted_array)\n"
   ]
  },
  {
   "cell_type": "markdown",
   "metadata": {},
   "source": [
    "#### 60. How to tell if a given 2D array has null columns?"
   ]
  },
  {
   "cell_type": "code",
   "execution_count": 5,
   "metadata": {},
   "outputs": [
    {
     "name": "stdout",
     "output_type": "stream",
     "text": [
      "Does the array have null columns? False\n"
     ]
    }
   ],
   "source": [
    "# Check if any column has all zeros\n",
    "has_null_columns = np.all(array == 0, axis=0)\n",
    "\n",
    "print(f\"Does the array have null columns? {has_null_columns.any()}\")\n"
   ]
  },
  {
   "cell_type": "markdown",
   "metadata": {},
   "source": [
    "#### 61. Find the nearest value from a given value in an array"
   ]
  },
  {
   "cell_type": "code",
   "execution_count": 6,
   "metadata": {},
   "outputs": [
    {
     "name": "stdout",
     "output_type": "stream",
     "text": [
      "Nearest value to 8 is 9\n"
     ]
    }
   ],
   "source": [
    "# Create an array\n",
    "values = np.array([1, 5, 9, 12, 15])\n",
    "\n",
    "# Given value\n",
    "target_value = 8\n",
    "\n",
    "# Find the index of the nearest value\n",
    "nearest_index = np.abs(values - target_value).argmin()\n",
    "nearest_value = values[nearest_index]\n",
    "\n",
    "print(f\"Nearest value to {target_value} is {nearest_value}\")\n"
   ]
  },
  {
   "cell_type": "markdown",
   "metadata": {},
   "source": [
    "#### 62. Considering two arrays with shape (1,3) and (3,1), how to compute their sum using an iterator?"
   ]
  },
  {
   "cell_type": "code",
   "execution_count": 7,
   "metadata": {},
   "outputs": [
    {
     "name": "stdout",
     "output_type": "stream",
     "text": [
      "Sum of the arrays: 90\n"
     ]
    }
   ],
   "source": [
    "# Create two arrays\n",
    "a = np.array([[1, 2, 3]])\n",
    "b = np.array([[4], [5], [6]])\n",
    "\n",
    "# Compute their sum using an iterator\n",
    "result = np.sum(np.multiply(a, b))\n",
    "\n",
    "print(f\"Sum of the arrays: {result}\")\n"
   ]
  },
  {
   "cell_type": "markdown",
   "metadata": {},
   "source": [
    "#### 63. Create an array class that has a name attribute"
   ]
  },
  {
   "cell_type": "code",
   "execution_count": 8,
   "metadata": {},
   "outputs": [
    {
     "name": "stdout",
     "output_type": "stream",
     "text": [
      "Array name: My Custom Array\n"
     ]
    }
   ],
   "source": [
    "class NamedArray(np.ndarray):\n",
    "    def __new__(cls, input_array, name=\"Unnamed Array\"):\n",
    "        obj = np.asarray(input_array).view(cls)\n",
    "        obj.name = name\n",
    "        return obj\n",
    "\n",
    "# Example usage\n",
    "my_array = NamedArray([1, 2, 3], name=\"My Custom Array\")\n",
    "print(f\"Array name: {my_array.name}\")\n"
   ]
  },
  {
   "cell_type": "markdown",
   "metadata": {},
   "source": [
    "#### 64. Consider a given vector, how to add 1 to each element indexed by a second vector (be careful with repeated indices)?"
   ]
  },
  {
   "cell_type": "code",
   "execution_count": 9,
   "metadata": {},
   "outputs": [
    {
     "name": "stdout",
     "output_type": "stream",
     "text": [
      "Modified vector V:\n",
      "[10 21 30 41 51]\n"
     ]
    }
   ],
   "source": [
    "\n",
    "# Example vectors\n",
    "V = np.array([10, 20, 30, 40, 50])\n",
    "I = np.array([1, 3, 4])  # Indices to modify\n",
    "\n",
    "# Add 1 to elements at specified indices\n",
    "V[I] += 1\n",
    "\n",
    "print(\"Modified vector V:\")\n",
    "print(V)\n"
   ]
  },
  {
   "cell_type": "markdown",
   "metadata": {},
   "source": [
    "#### 65. How to accumulate elements of a vector (X) to an array (F) based on an index list (I)?"
   ]
  },
  {
   "cell_type": "code",
   "execution_count": null,
   "metadata": {},
   "outputs": [],
   "source": [
    "# Example vectors\n",
    "X = np.array([5, 3, 8, 2, 6])\n",
    "I = np.array([0, 2, 1, 3])  # Indices for accumulation\n",
    "\n",
    "# Initialize an array F with zeros\n",
    "F = np.zeros_like(X)\n",
    "\n",
    "# Accumulate elements of X into F based on indices\n",
    "np.add.at(F, I, X)\n",
    "\n",
    "print(\"Accumulated array F:\")\n",
    "print(F)"
   ]
  },
  {
   "cell_type": "markdown",
   "metadata": {},
   "source": [
    "#### 66. Considering a (w,h,3) image of (dtype=ubyte), compute the number of unique colors"
   ]
  },
  {
   "cell_type": "code",
   "execution_count": null,
   "metadata": {},
   "outputs": [],
   "source": [
    "# Example image (replace with your actual image data)\n",
    "image = np.random.randint(0, 256, size=(w, h, 3), dtype=np.uint8)\n",
    "\n",
    "# Reshape the image to a 2D array (w*h, 3)\n",
    "reshaped_image = image.reshape(-1, 3)\n",
    "\n",
    "# Compute unique colors\n",
    "unique_colors = np.unique(reshaped_image, axis=0)\n",
    "\n",
    "print(f\"Number of unique colors: {len(unique_colors)}\")"
   ]
  },
  {
   "cell_type": "markdown",
   "metadata": {},
   "source": [
    "#### 67. Considering a four dimensions array, how to get sum over the last two axis at once?"
   ]
  },
  {
   "cell_type": "code",
   "execution_count": 12,
   "metadata": {},
   "outputs": [
    {
     "name": "stdout",
     "output_type": "stream",
     "text": [
      "Sum over the last two axes:\n",
      "[[ 8.67711469  9.58847392 11.05313548]\n",
      " [10.26415668 11.36028107 10.14454103]]\n"
     ]
    }
   ],
   "source": [
    "# Example 4D array (replace with your actual data)\n",
    "arr_4d = np.random.rand(2, 3, 4, 5)\n",
    "\n",
    "# Sum over the last two axes\n",
    "result = np.sum(arr_4d, axis=(-2, -1))\n",
    "\n",
    "print(\"Sum over the last two axes:\")\n",
    "print(result)\n"
   ]
  },
  {
   "cell_type": "markdown",
   "metadata": {},
   "source": [
    "#### 68. Considering a one-dimensional vector D, how to compute means of subsets of D using a vector S of same size describing subset  indices?"
   ]
  },
  {
   "cell_type": "code",
   "execution_count": 13,
   "metadata": {},
   "outputs": [
    {
     "name": "stdout",
     "output_type": "stream",
     "text": [
      "Means of subsets:\n",
      "[20.0, 30.0, 50.0]\n"
     ]
    }
   ],
   "source": [
    "# Example vectors\n",
    "D = np.array([10, 20, 30, 40, 50])\n",
    "S = np.array([0, 1, 0, 1, 2])  # Subset indices (0, 1, 2)\n",
    "\n",
    "# Compute means of subsets\n",
    "unique_subset_indices = np.unique(S)\n",
    "subset_means = [np.mean(D[S == i]) for i in unique_subset_indices]\n",
    "\n",
    "print(\"Means of subsets:\")\n",
    "print(subset_means)\n"
   ]
  },
  {
   "cell_type": "markdown",
   "metadata": {},
   "source": [
    "#### 69. How to get the diagonal of a dot product?"
   ]
  },
  {
   "cell_type": "code",
   "execution_count": 14,
   "metadata": {},
   "outputs": [
    {
     "name": "stdout",
     "output_type": "stream",
     "text": [
      "Diagonal of the dot product:\n",
      "[0.74262931 1.22566204 0.51621733]\n"
     ]
    }
   ],
   "source": [
    "# Example matrices (replace with your actual data)\n",
    "A = np.random.rand(3, 3)\n",
    "B = np.random.rand(3, 3)\n",
    "\n",
    "# Compute dot product\n",
    "dot_product = np.dot(A, B)\n",
    "\n",
    "# Get the diagonal\n",
    "diagonal = np.diag(dot_product)\n",
    "\n",
    "print(\"Diagonal of the dot product:\")\n",
    "print(diagonal)\n"
   ]
  },
  {
   "cell_type": "markdown",
   "metadata": {},
   "source": [
    "#### 70. Consider the vector [1, 2, 3, 4, 5], how to build a new vector with 3 consecutive zeros interleaved between each value?"
   ]
  },
  {
   "cell_type": "code",
   "execution_count": 15,
   "metadata": {},
   "outputs": [
    {
     "name": "stdout",
     "output_type": "stream",
     "text": [
      "New vector with interleaved\n"
     ]
    }
   ],
   "source": [
    "original_vector = np.array([1, 2, 3, 4, 5])\n",
    "new_vector = np.zeros(len(original_vector) + 3 * (len(original_vector) - 1))\n",
    "new_vector[::4] = original_vector\n",
    "\n",
    "print(\"New vector with interleaved\")"
   ]
  },
  {
   "cell_type": "markdown",
   "metadata": {},
   "source": [
    "#### 71. Consider an array of dimension (5,5,3), how to mulitply it by an array with dimensions (5,5)?"
   ]
  },
  {
   "cell_type": "code",
   "execution_count": 16,
   "metadata": {},
   "outputs": [
    {
     "name": "stdout",
     "output_type": "stream",
     "text": [
      "Result of element-wise multiplication:\n",
      "[[[0.04911217 0.08307803 0.12053088]\n",
      "  [0.05938968 0.0537191  0.03168988]\n",
      "  [0.24290943 0.05371797 0.51491313]\n",
      "  [0.03522981 0.13631427 0.04776351]\n",
      "  [0.53784604 0.36318296 0.36262186]]\n",
      "\n",
      " [[0.0345933  0.04922563 0.05596556]\n",
      "  [0.00281657 0.00448007 0.00922221]\n",
      "  [0.06458484 0.07548664 0.04070516]\n",
      "  [0.84387504 0.53925067 0.84533337]\n",
      "  [0.24816917 0.28791948 0.21119621]]\n",
      "\n",
      " [[0.6217039  0.04457098 0.07984036]\n",
      "  [0.542619   0.43631272 0.35379573]\n",
      "  [0.33628918 0.02970584 0.36221333]\n",
      "  [0.0356095  0.01713554 0.01778351]\n",
      "  [0.23366208 0.03314616 0.3216633 ]]\n",
      "\n",
      " [[0.26474144 0.23396724 0.30052388]\n",
      "  [0.30673859 0.13763706 0.0128181 ]\n",
      "  [0.38947087 0.14945394 0.02740595]\n",
      "  [0.01644289 0.54495274 0.00739944]\n",
      "  [0.19500574 0.58566196 0.45908826]]\n",
      "\n",
      " [[0.3081537  0.42637053 0.3437584 ]\n",
      "  [0.00321337 0.00116827 0.01154012]\n",
      "  [0.05882472 0.42775579 0.36901036]\n",
      "  [0.51537333 0.00297889 0.11649113]\n",
      "  [0.36821296 0.93436755 0.14443716]]]\n"
     ]
    }
   ],
   "source": [
    "# Create arrays A and B (replace with your actual data)\n",
    "A = np.random.rand(5, 5, 3)\n",
    "B = np.random.rand(5, 5)\n",
    "\n",
    "# Multiply element-wise\n",
    "result = np.multiply(A, B[:, :, np.newaxis])\n",
    "\n",
    "print(\"Result of element-wise multiplication:\")\n",
    "print(result)\n"
   ]
  },
  {
   "cell_type": "markdown",
   "metadata": {},
   "source": [
    "#### 72. How to swap two rows of an array?"
   ]
  },
  {
   "cell_type": "code",
   "execution_count": 17,
   "metadata": {},
   "outputs": [
    {
     "name": "stdout",
     "output_type": "stream",
     "text": [
      "Array with swapped rows:\n",
      "[[4 5 6]\n",
      " [4 5 6]\n",
      " [7 8 9]]\n"
     ]
    }
   ],
   "source": [
    "# Create a sample 2D array\n",
    "arr = np.array([[1, 2, 3],\n",
    "                [4, 5, 6],\n",
    "                [7, 8, 9]])\n",
    "\n",
    "# Swap rows 0 and 1\n",
    "arr[0], arr[1] = arr[1], arr[0]\n",
    "\n",
    "print(\"Array with swapped rows:\")\n",
    "print(arr)\n"
   ]
  },
  {
   "cell_type": "markdown",
   "metadata": {},
   "source": [
    "#### 73. Consider a set of 10 triplets describing 10 triangles (with shared vertices), find the set of unique line segments composing all the  triangles "
   ]
  },
  {
   "cell_type": "code",
   "execution_count": 18,
   "metadata": {},
   "outputs": [
    {
     "name": "stdout",
     "output_type": "stream",
     "text": [
      "Unique line segments:\n",
      "[[1 2 2 3]\n",
      " [2 3 3 4]\n",
      " [3 4 4 5]]\n"
     ]
    }
   ],
   "source": [
    "# Example triplets (replace with your actual data)\n",
    "triplets = np.array([[1, 2, 3],\n",
    "                      [2, 3, 4],\n",
    "                      [3, 4, 5],\n",
    "                      # ... more triplets ...\n",
    "                     ])\n",
    "\n",
    "# Extract unique line segments\n",
    "line_segments = np.unique(triplets[:, [0, 1, 1, 2]], axis=0)\n",
    "\n",
    "print(\"Unique line segments:\")\n",
    "print(line_segments)\n"
   ]
  },
  {
   "cell_type": "markdown",
   "metadata": {},
   "source": [
    "#### 74. Given a sorted array C that corresponds to a bincount, how to produce an array A such that np.bincount(A) == C? "
   ]
  },
  {
   "cell_type": "code",
   "execution_count": 19,
   "metadata": {},
   "outputs": [
    {
     "name": "stdout",
     "output_type": "stream",
     "text": [
      "Array A satisfying np.bincount(A) == C:\n",
      "[0 0 1 1 1 2 4 4 4 4]\n"
     ]
    }
   ],
   "source": [
    "# Example sorted array C (replace with your actual data)\n",
    "C = np.array([2, 3, 1, 0, 4])\n",
    "\n",
    "# Create array A with appropriate values\n",
    "A = np.repeat(np.arange(len(C)), C)\n",
    "\n",
    "print(\"Array A satisfying np.bincount(A) == C:\")\n",
    "print(A)\n"
   ]
  },
  {
   "cell_type": "markdown",
   "metadata": {},
   "source": [
    "#### 75. How to compute averages using a sliding window over an array?"
   ]
  },
  {
   "cell_type": "code",
   "execution_count": 20,
   "metadata": {},
   "outputs": [
    {
     "name": "stdout",
     "output_type": "stream",
     "text": [
      "Moving averages with window size 3:\n",
      "[20. 30. 40. 50.]\n"
     ]
    }
   ],
   "source": [
    "# Example 1D array Z (replace with your actual data)\n",
    "Z = np.array([10, 20, 30, 40, 50, 60])\n",
    "\n",
    "# Define sliding window size (e.g., 3)\n",
    "window_size = 3\n",
    "\n",
    "# Compute moving averages\n",
    "moving_averages = np.convolve(Z, np.ones(window_size) / window_size, mode='valid')\n",
    "\n",
    "print(f\"Moving averages with window size {window_size}:\")\n",
    "print(moving_averages)\n"
   ]
  },
  {
   "cell_type": "markdown",
   "metadata": {},
   "source": [
    "#### 76. Consider a one-dimensional array Z, build a two-dimensional array whose first row is (Z[0],Z[1],Z[2]) and each subsequent row is  shifted by 1 (last row should be (Z[-3],Z[-2],Z[-1])"
   ]
  },
  {
   "cell_type": "code",
   "execution_count": null,
   "metadata": {},
   "outputs": [],
   "source": [
    "# Example 1D array Z (replace with your actual data)\n",
    "Z = np.array([10, 20, 30, 40, 50])\n",
    "\n",
    "# Build the 2D array\n",
    "num_rows = len(Z)\n",
    "shifted_rows = np.vstack([Z[i:] for i in range(num_rows)])\n",
    "\n",
    "print(\"2D array with shifted rows:\")\n",
    "print(shifted_rows)"
   ]
  },
  {
   "cell_type": "markdown",
   "metadata": {},
   "source": [
    "#### 77. How to negate a boolean, or to change the sign of a float inplace?"
   ]
  },
  {
   "cell_type": "code",
   "execution_count": 22,
   "metadata": {},
   "outputs": [
    {
     "name": "stdout",
     "output_type": "stream",
     "text": [
      "Negated boolean array:\n",
      "[False  True False]\n",
      "Float array\n"
     ]
    }
   ],
   "source": [
    "# Example boolean array and float array\n",
    "bool_array = np.array([True, False, True])\n",
    "float_array = np.array([1.0, -2.0, 3.0])\n",
    "\n",
    "# Negate boolean array inplace\n",
    "bool_array = np.logical_not(bool_array)\n",
    "\n",
    "# Change sign of float array inplace\n",
    "float_array *= -1\n",
    "\n",
    "print(\"Negated boolean array:\")\n",
    "print(bool_array)\n",
    "print(\"Float array\")"
   ]
  },
  {
   "cell_type": "markdown",
   "metadata": {},
   "source": [
    "#### 78. Consider 2 sets of points P0,P1 describing lines (2d) and a point p, how to compute distance from p to each line i (P0[i],P1[i])?"
   ]
  },
  {
   "cell_type": "code",
   "execution_count": 23,
   "metadata": {},
   "outputs": [
    {
     "name": "stdout",
     "output_type": "stream",
     "text": [
      "Distances to each line:\n",
      "[1.264911064067352, 1.264911064067352]\n"
     ]
    }
   ],
   "source": [
    "import numpy as np\n",
    "\n",
    "def distance_to_line(p, P0, P1):\n",
    "    # Compute vector from P0 to P1\n",
    "    v = P1 - P0\n",
    "\n",
    "    # Compute vector from P0 to p\n",
    "    w = p - P0\n",
    "\n",
    "    # Compute projection of w onto v\n",
    "    proj = np.dot(w, v) / np.dot(v, v)\n",
    "\n",
    "    # Compute closest point on the line\n",
    "    closest_point = P0 + proj * v\n",
    "\n",
    "    # Compute distance between p and closest_point\n",
    "    distance = np.linalg.norm(p - closest_point)\n",
    "\n",
    "    return distance\n",
    "\n",
    "# Example points\n",
    "p = np.array([3, 4])\n",
    "P0 = np.array([[1, 2], [5, 6]])\n",
    "P1 = np.array([[4, 3], [8, 7]])\n",
    "\n",
    "distances = [distance_to_line(p, P0[i], P1[i]) for i in range(len(P0))]\n",
    "print(\"Distances to each line:\")\n",
    "print(distances)\n"
   ]
  },
  {
   "cell_type": "markdown",
   "metadata": {},
   "source": [
    "#### 79. Consider 2 sets of points P0,P1 describing lines (2d) and a set of points P, how to compute distance from each point j (P[j]) to each line i (P0[i],P1[i])?"
   ]
  },
  {
   "cell_type": "code",
   "execution_count": 24,
   "metadata": {},
   "outputs": [
    {
     "name": "stdout",
     "output_type": "stream",
     "text": [
      "Distances from each point to each line:\n",
      "[[0.63245553 1.8973666 ]\n",
      " [1.8973666  0.63245553]\n",
      " [3.16227766 0.63245553]]\n"
     ]
    }
   ],
   "source": [
    "# Example points\n",
    "P = np.array([[2, 3], [4, 5], [6, 7]])\n",
    "P0 = np.array([[1, 2], [5, 6]])\n",
    "P1 = np.array([[4, 3], [8, 7]])\n",
    "\n",
    "all_distances = []\n",
    "for j in range(len(P)):\n",
    "    distances = [distance_to_line(P[j], P0[i], P1[i]) for i in range(len(P0))]\n",
    "    all_distances.append(distances)\n",
    "\n",
    "print(\"Distances from each point to each line:\")\n",
    "print(np.array(all_distances))\n"
   ]
  },
  {
   "cell_type": "markdown",
   "metadata": {},
   "source": [
    "#### 80. Consider an arbitrary array, write a function that extract a subpart with a fixed shape and centered on a given element (pad with a `fill` value when necessary)"
   ]
  },
  {
   "cell_type": "code",
   "execution_count": 25,
   "metadata": {},
   "outputs": [
    {
     "name": "stdout",
     "output_type": "stream",
     "text": [
      "Extracted subpart:\n",
      "[[2 5 3]\n",
      " [0 0 0]\n",
      " [8 5 2]]\n"
     ]
    }
   ],
   "source": [
    "def extract_subpart(arr, center, shape, fill_value=0):\n",
    "    half_shape = np.array(shape) // 2\n",
    "    padded_arr = np.pad(arr, [(s, s) for s in half_shape], mode='constant', constant_values=fill_value)\n",
    "    center_indices = np.array(center) + half_shape\n",
    "    subpart = padded_arr[center_indices[0] - half_shape[0]:center_indices[0] + half_shape[0] + 1,\n",
    "                         center_indices[1] - half_shape[1]:center_indices[1] + half_shape[1] + 1]\n",
    "    return subpart\n",
    "\n",
    "# Example array\n",
    "arbitrary_array = np.random.randint(0, 10, size=(10, 10))\n",
    "\n",
    "# Extract subpart centered at (5, 5) with shape (3, 3)\n",
    "subpart = extract_subpart(arbitrary_array, center=(5, 5), shape=(3, 3))\n",
    "\n",
    "print(\"Extracted subpart:\")\n",
    "print(subpart)\n"
   ]
  },
  {
   "cell_type": "markdown",
   "metadata": {},
   "source": [
    "#### 81. Consider an array Z = [1,2,3,4,5,6,7,8,9,10,11,12,13,14], how to generate an array R = [[1,2,3,4], [2,3,4,5], [3,4,5,6], ..., [11,12,13,14]]?"
   ]
  },
  {
   "cell_type": "code",
   "execution_count": null,
   "metadata": {},
   "outputs": [],
   "source": [
    "Z = np.array([1, 2, 3, 4, 5, 6, 7, 8, 9, 10, 11, 12, 13, 14])\n",
    "R = Z[:-3].reshape(-1, 4)\n",
    "\n",
    "print(\"Array R:\")\n",
    "print(R)"
   ]
  },
  {
   "cell_type": "markdown",
   "metadata": {},
   "source": [
    "#### 82. Compute a matrix rank"
   ]
  },
  {
   "cell_type": "code",
   "execution_count": 27,
   "metadata": {},
   "outputs": [
    {
     "name": "stdout",
     "output_type": "stream",
     "text": [
      "Matrix rank: 4\n"
     ]
    }
   ],
   "source": [
    "matrix = np.random.rand(4, 4)  # Replace with your actual matrix\n",
    "rank = np.linalg.matrix_rank(matrix)\n",
    "\n",
    "print(f\"Matrix rank: {rank}\")\n"
   ]
  },
  {
   "cell_type": "markdown",
   "metadata": {},
   "source": [
    "#### 83. How to find the most frequent value in an array?"
   ]
  },
  {
   "cell_type": "code",
   "execution_count": 28,
   "metadata": {},
   "outputs": [
    {
     "name": "stdout",
     "output_type": "stream",
     "text": [
      "Most frequent value: 1\n"
     ]
    }
   ],
   "source": [
    "# Example array\n",
    "arr = np.array([1, 2, 3, 1, 2, 1, 1, 1, 3, 2, 2, 1])\n",
    "\n",
    "# Compute counts of each value\n",
    "counts = np.bincount(arr)\n",
    "\n",
    "# Find the most frequent value\n",
    "most_frequent_value = np.argmax(counts)\n",
    "\n",
    "print(f\"Most frequent value: {most_frequent_value}\")\n"
   ]
  },
  {
   "cell_type": "markdown",
   "metadata": {},
   "source": [
    "#### 84. Extract all the contiguous 3x3 blocks from a random 10x10 matrix"
   ]
  },
  {
   "cell_type": "code",
   "execution_count": 29,
   "metadata": {},
   "outputs": [
    {
     "name": "stdout",
     "output_type": "stream",
     "text": [
      "Contiguous 3x3 blocks:\n",
      "[[54 96 43]\n",
      " [68 50 93]\n",
      " [ 9 52 38]]\n",
      "[[96 43 37]\n",
      " [50 93 80]\n",
      " [52 38 59]]\n",
      "[[43 37 32]\n",
      " [93 80 72]\n",
      " [38 59 42]]\n",
      "[[37 32 10]\n",
      " [80 72 24]\n",
      " [59 42  2]]\n",
      "[[32 10 16]\n",
      " [72 24 62]\n",
      " [42  2 61]]\n",
      "[[10 16 76]\n",
      " [24 62 20]\n",
      " [ 2 61 71]]\n",
      "[[16 76  1]\n",
      " [62 20 16]\n",
      " [61 71 38]]\n",
      "[[76  1 62]\n",
      " [20 16  1]\n",
      " [71 38 94]]\n",
      "[[68 50 93]\n",
      " [ 9 52 38]\n",
      " [36 52 50]]\n",
      "[[50 93 80]\n",
      " [52 38 59]\n",
      " [52 50 41]]\n",
      "[[93 80 72]\n",
      " [38 59 42]\n",
      " [50 41 58]]\n",
      "[[80 72 24]\n",
      " [59 42  2]\n",
      " [41 58 34]]\n",
      "[[72 24 62]\n",
      " [42  2 61]\n",
      " [58 34 73]]\n",
      "[[24 62 20]\n",
      " [ 2 61 71]\n",
      " [34 73 42]]\n",
      "[[62 20 16]\n",
      " [61 71 38]\n",
      " [73 42 54]]\n",
      "[[20 16  1]\n",
      " [71 38 94]\n",
      " [42 54 69]]\n",
      "[[ 9 52 38]\n",
      " [36 52 50]\n",
      " [34 74 48]]\n",
      "[[52 38 59]\n",
      " [52 50 41]\n",
      " [74 48 82]]\n",
      "[[38 59 42]\n",
      " [50 41 58]\n",
      " [48 82 29]]\n",
      "[[59 42  2]\n",
      " [41 58 34]\n",
      " [82 29 43]]\n",
      "[[42  2 61]\n",
      " [58 34 73]\n",
      " [29 43  2]]\n",
      "[[ 2 61 71]\n",
      " [34 73 42]\n",
      " [43  2 63]]\n",
      "[[61 71 38]\n",
      " [73 42 54]\n",
      " [ 2 63 93]]\n",
      "[[71 38 94]\n",
      " [42 54 69]\n",
      " [63 93 44]]\n",
      "[[36 52 50]\n",
      " [34 74 48]\n",
      " [ 1 93 58]]\n",
      "[[52 50 41]\n",
      " [74 48 82]\n",
      " [93 58 19]]\n",
      "[[50 41 58]\n",
      " [48 82 29]\n",
      " [58 19 34]]\n",
      "[[41 58 34]\n",
      " [82 29 43]\n",
      " [19 34 69]]\n",
      "[[58 34 73]\n",
      " [29 43  2]\n",
      " [34 69 46]]\n",
      "[[34 73 42]\n",
      " [43  2 63]\n",
      " [69 46 36]]\n",
      "[[73 42 54]\n",
      " [ 2 63 93]\n",
      " [46 36 91]]\n",
      "[[42 54 69]\n",
      " [63 93 44]\n",
      " [36 91 12]]\n",
      "[[34 74 48]\n",
      " [ 1 93 58]\n",
      " [85 74 68]]\n",
      "[[74 48 82]\n",
      " [93 58 19]\n",
      " [74 68 83]]\n",
      "[[48 82 29]\n",
      " [58 19 34]\n",
      " [68 83  0]]\n",
      "[[82 29 43]\n",
      " [19 34 69]\n",
      " [83  0 18]]\n",
      "[[29 43  2]\n",
      " [34 69 46]\n",
      " [ 0 18 55]]\n",
      "[[43  2 63]\n",
      " [69 46 36]\n",
      " [18 55 40]]\n",
      "[[ 2 63 93]\n",
      " [46 36 91]\n",
      " [55 40 48]]\n",
      "[[63 93 44]\n",
      " [36 91 12]\n",
      " [40 48 33]]\n",
      "[[ 1 93 58]\n",
      " [85 74 68]\n",
      " [55 70 89]]\n",
      "[[93 58 19]\n",
      " [74 68 83]\n",
      " [70 89 74]]\n",
      "[[58 19 34]\n",
      " [68 83  0]\n",
      " [89 74 20]]\n",
      "[[19 34 69]\n",
      " [83  0 18]\n",
      " [74 20 89]]\n",
      "[[34 69 46]\n",
      " [ 0 18 55]\n",
      " [20 89 44]]\n",
      "[[69 46 36]\n",
      " [18 55 40]\n",
      " [89 44 61]]\n",
      "[[46 36 91]\n",
      " [55 40 48]\n",
      " [44 61 34]]\n",
      "[[36 91 12]\n",
      " [40 48 33]\n",
      " [61 34 15]]\n",
      "[[85 74 68]\n",
      " [55 70 89]\n",
      " [26 79 16]]\n",
      "[[74 68 83]\n",
      " [70 89 74]\n",
      " [79 16 57]]\n",
      "[[68 83  0]\n",
      " [89 74 20]\n",
      " [16 57 75]]\n",
      "[[83  0 18]\n",
      " [74 20 89]\n",
      " [57 75 42]]\n",
      "[[ 0 18 55]\n",
      " [20 89 44]\n",
      " [75 42 61]]\n",
      "[[18 55 40]\n",
      " [89 44 61]\n",
      " [42 61 85]]\n",
      "[[55 40 48]\n",
      " [44 61 34]\n",
      " [61 85 10]]\n",
      "[[40 48 33]\n",
      " [61 34 15]\n",
      " [85 10 32]]\n",
      "[[55 70 89]\n",
      " [26 79 16]\n",
      " [67 88 46]]\n",
      "[[70 89 74]\n",
      " [79 16 57]\n",
      " [88 46 86]]\n",
      "[[89 74 20]\n",
      " [16 57 75]\n",
      " [46 86 78]]\n",
      "[[74 20 89]\n",
      " [57 75 42]\n",
      " [86 78 62]]\n",
      "[[20 89 44]\n",
      " [75 42 61]\n",
      " [78 62  5]]\n",
      "[[89 44 61]\n",
      " [42 61 85]\n",
      " [62  5 66]]\n",
      "[[44 61 34]\n",
      " [61 85 10]\n",
      " [ 5 66  9]]\n",
      "[[61 34 15]\n",
      " [85 10 32]\n",
      " [66  9  0]]\n"
     ]
    }
   ],
   "source": [
    "# Create a random 10x10 matrix\n",
    "matrix = np.random.randint(0, 100, size=(10, 10))\n",
    "\n",
    "# Extract contiguous 3x3 blocks\n",
    "blocks = [matrix[i:i+3, j:j+3] for i in range(8) for j in range(8)]\n",
    "\n",
    "print(\"Contiguous 3x3 blocks:\")\n",
    "for block in blocks:\n",
    "    print(block)\n"
   ]
  },
  {
   "cell_type": "markdown",
   "metadata": {},
   "source": [
    "#### 85. Create a 2D array subclass such that Z[i,j] == Z[j,i]"
   ]
  },
  {
   "cell_type": "code",
   "execution_count": null,
   "metadata": {},
   "outputs": [],
   "source": [
    "\n",
    "class SymmetricArray(np.ndarray):\n",
    "    def __new__(cls, input_array):\n",
    "        obj = np.asarray(input_array).view(cls)\n",
    "        return obj\n",
    "\n",
    "    def __array_finalize__(self, obj):\n",
    "        if obj is None:\n",
    "            return\n",
    "        # Ensure symmetry\n",
    "        self[:] = (obj + obj.T) / 2\n",
    "\n",
    "# Example usage\n",
    "Z = SymmetricArray(np.random.rand(5, 5))\n",
    "print(Z)"
   ]
  },
  {
   "cell_type": "markdown",
   "metadata": {},
   "source": [
    "#### 86. Consider a set of p matrices with shape (n,n) and a set of p vectors with shape (n,1). How to compute the sum of of the p matrix products at once? (result has shape (n,1))"
   ]
  },
  {
   "cell_type": "code",
   "execution_count": null,
   "metadata": {},
   "outputs": [],
   "source": [
    "# Example matrices and vectors (replace with your actual data)\n",
    "p = 3\n",
    "n = 4\n",
    "matrices = np.random.rand(p, n, n)\n",
    "vectors = np.random.rand(p, n, 1)\n",
    "\n",
    "# Compute the sum of matrix products\n",
    "result = np.sum(np.dot(matrices, vectors), axis=0)\n",
    "\n",
    "print(\"Result shape:\", result.shape)\n",
    "print(result)"
   ]
  },
  {
   "cell_type": "markdown",
   "metadata": {},
   "source": [
    "#### 87. Consider a 16x16 array, how to get the block-sum (block size is 4x4)?"
   ]
  },
  {
   "cell_type": "code",
   "execution_count": null,
   "metadata": {},
   "outputs": [],
   "source": [
    "# Create a random 16x16 array\n",
    "array_16x16 = np.random.randint(0, 100, size=(16, 16))\n",
    "\n",
    "# Reshape into 4x4 blocks\n",
    "blocks = array_16x16.reshape(4, 4, 4, 4)\n",
    "\n",
    "# Compute the block-sum\n",
    "block_sums = np.sum(blocks, axis=(2, 3))\n",
    "\n",
    "print(\"Block-sums (4x4):\")\n",
    "print(block_sums)"
   ]
  },
  {
   "cell_type": "markdown",
   "metadata": {},
   "source": [
    "#### 88. How to implement the Game of Life using numpy array"
   ]
  },
  {
   "cell_type": "markdown",
   "metadata": {},
   "source": [
    "The Game of Life is a cellular automaton. You can represent the grid using a numpy array, update it based on the rules, and visualize the evolution. Implementing the entire Game of Life is beyond the scope of a single response, but you can start by creating the grid and defining the rules for cell evolution."
   ]
  },
  {
   "cell_type": "markdown",
   "metadata": {},
   "source": [
    "#### 89. How to get the n largest values of an array"
   ]
  },
  {
   "cell_type": "code",
   "execution_count": null,
   "metadata": {},
   "outputs": [],
   "source": [
    "# Example array\n",
    "arr = np.array([10, 5, 20, 15, 30, 25])\n",
    "\n",
    "# Indices of sorted elements\n",
    "sorted_indices = np.argsort(arr)\n",
    "\n",
    "# Get the n largest values\n",
    "n = 3\n",
    "largest_values = arr[sorted_indices[-n:]]\n",
    "\n",
    "print(f\"{n} largest values:\", largest_values)"
   ]
  },
  {
   "cell_type": "markdown",
   "metadata": {},
   "source": [
    "#### 90. Given an arbitrary number of vectors, build the cartesian product (every combinations of every item)"
   ]
  },
  {
   "cell_type": "code",
   "execution_count": 4,
   "metadata": {},
   "outputs": [
    {
     "name": "stdout",
     "output_type": "stream",
     "text": [
      "Cartesian product:\n",
      "[[0 2]\n",
      " [0 3]\n",
      " [0 4]\n",
      " [1 2]\n",
      " [1 3]\n",
      " [1 4]]\n"
     ]
    }
   ],
   "source": [
    "import numpy as np\n",
    "\n",
    "def cartesian_product(*arrays):\n",
    "    broadcastable = np.ix_(*arrays)\n",
    "    broadcasted = np.broadcast_arrays(*broadcastable)\n",
    "    rows, cols = np.prod(broadcasted[0].shape), len(broadcasted)\n",
    "    dtype = np.result_type(*arrays)\n",
    "    out = np.empty(rows * cols, dtype=dtype)\n",
    "    start, end = 0, rows\n",
    "    for a in broadcasted:\n",
    "        out[start:end] = a.reshape(-1)\n",
    "        start, end = end, end + rows\n",
    "    return out.reshape(cols, rows).T\n",
    "\n",
    "# Example usage\n",
    "alpha = np.array([0, 1])\n",
    "beta = np.array([2, 3, 4])\n",
    "result = cartesian_product(alpha, beta)\n",
    "\n",
    "print(\"Cartesian product:\")\n",
    "print(result)\n"
   ]
  },
  {
   "cell_type": "markdown",
   "metadata": {},
   "source": [
    "#### 91. How to create a record array from a regular array?"
   ]
  },
  {
   "cell_type": "code",
   "execution_count": 5,
   "metadata": {},
   "outputs": [
    {
     "name": "stdout",
     "output_type": "stream",
     "text": [
      "Record array:\n",
      "[(1,) (2,) (3,)]\n"
     ]
    }
   ],
   "source": [
    "regular_array = np.array([1, 2, 3])\n",
    "field_names = ['value']\n",
    "\n",
    "record_array = np.rec.fromarrays([regular_array], names=field_names)\n",
    "\n",
    "print(\"Record array:\")\n",
    "print(record_array)\n"
   ]
  },
  {
   "cell_type": "markdown",
   "metadata": {},
   "source": [
    "#### 92. Consider a large vector Z, compute Z to the power of 3 using 3 different methods"
   ]
  },
  {
   "cell_type": "code",
   "execution_count": 6,
   "metadata": {},
   "outputs": [
    {
     "name": "stdout",
     "output_type": "stream",
     "text": [
      "True\n"
     ]
    }
   ],
   "source": [
    "Z = np.random.rand(1000000)  # Example large vector\n",
    "\n",
    "# Method 1: Using numpy.power\n",
    "result1 = np.power(Z, 3)\n",
    "\n",
    "# Method 2: Using numpy.multiply\n",
    "result2 = np.multiply(Z, np.multiply(Z, Z))\n",
    "\n",
    "# Method 3: Using the ** operator\n",
    "result3 = Z ** 3\n",
    "\n",
    "# Verify that all methods produce the same result\n",
    "print(np.allclose(result1, result2) and np.allclose(result1, result3))\n"
   ]
  },
  {
   "cell_type": "markdown",
   "metadata": {},
   "source": [
    "#### 93. Consider two arrays A and B of shape (8,3) and (2,2). How to find rows of A that contain elements of each row of B regardless of the order of the elements in B?"
   ]
  },
  {
   "cell_type": "code",
   "execution_count": null,
   "metadata": {},
   "outputs": [],
   "source": [
    "A = np.array([[1, 2, 3],\n",
    "              [4, 5, 6],\n",
    "              [7, 8, 9],\n",
    "              [2, 3, 1],\n",
    "              [5, 6, 4]])\n",
    "\n",
    "B = np.array([[1, 2],\n",
    "              [3, 4]])\n",
    "\n",
    "# Check if each row of B is contained in any row of A\n",
    "mask = np.all(np.isin(B, A), axis=1)\n",
    "\n",
    "# Get the rows of A that satisfy the condition\n",
    "selected_rows = A[mask]\n",
    "\n",
    "print(\"Rows of A containing elements of each row of B:\")\n",
    "print(selected_rows)"
   ]
  },
  {
   "cell_type": "markdown",
   "metadata": {},
   "source": [
    "#### 94. Considering a 10x3 matrix, extract rows with unequal values (e.g. [2,2,3])"
   ]
  },
  {
   "cell_type": "code",
   "execution_count": 8,
   "metadata": {},
   "outputs": [
    {
     "name": "stdout",
     "output_type": "stream",
     "text": [
      "Rows with unequal values:\n",
      "[]\n"
     ]
    }
   ],
   "source": [
    "matrix = np.random.randint(0, 10, size=(10, 3))  # Example 10x3 matrix\n",
    "\n",
    "# Find rows with unequal values\n",
    "unique_rows, inverse_indices = np.unique(matrix, axis=0, return_inverse=True)\n",
    "unequal_rows = unique_rows[np.bincount(inverse_indices) > 1]\n",
    "\n",
    "print(\"Rows with unequal values:\")\n",
    "print(unequal_rows)\n"
   ]
  },
  {
   "cell_type": "markdown",
   "metadata": {},
   "source": [
    "#### 95. Convert a vector of ints into a matrix binary representation"
   ]
  },
  {
   "cell_type": "code",
   "execution_count": null,
   "metadata": {},
   "outputs": [],
   "source": [
    "vector = np.array([5, 3, 7])  # Example vector of integers\n",
    "\n",
    "# Convert to binary representation\n",
    "binary_matrix = np.unpackbits(vector[:, np.newaxis], axis=1)\n",
    "\n",
    "print(\"Binary matrix representation:\")\n",
    "print(binary_matrix)"
   ]
  },
  {
   "cell_type": "markdown",
   "metadata": {},
   "source": [
    "#### 96. Given a two dimensional array, how to extract unique rows?"
   ]
  },
  {
   "cell_type": "code",
   "execution_count": 10,
   "metadata": {},
   "outputs": [
    {
     "name": "stdout",
     "output_type": "stream",
     "text": [
      "Unique rows:\n",
      "[[0 1 1 1 0 0]\n",
      " [1 1 1 0 0 0]\n",
      " [1 1 1 1 1 0]]\n"
     ]
    }
   ],
   "source": [
    "import numpy as np\n",
    "\n",
    "# Example 2D array\n",
    "original_array = np.array([[1, 1, 1, 0, 0, 0],\n",
    "                           [0, 1, 1, 1, 0, 0],\n",
    "                           [0, 1, 1, 1, 0, 0],\n",
    "                           [1, 1, 1, 0, 0, 0],\n",
    "                           [1, 1, 1, 1, 1, 0]])\n",
    "\n",
    "# Get unique rows\n",
    "unique_rows = np.unique(original_array, axis=0)\n",
    "\n",
    "print(\"Unique rows:\")\n",
    "print(unique_rows)\n"
   ]
  },
  {
   "cell_type": "markdown",
   "metadata": {},
   "source": [
    "#### 97. Considering 2 vectors A & B, write the einsum equivalent of inner, outer, sum, and mul function"
   ]
  },
  {
   "cell_type": "code",
   "execution_count": null,
   "metadata": {},
   "outputs": [],
   "source": [
    "# Inner product (dot product):\n",
    "np.einsum('i,i', A, B)\n",
    "\n",
    "\n",
    "# Outer product\n",
    "np.einsum('i,j->ij', A, B)\n",
    "\n",
    "\n",
    "# Sum of elements\n",
    "np.einsum('i', A)\n",
    "\n",
    "\n",
    "# Element-wise multiplication:\n",
    "np.einsum('i,i->i', A, B)\n"
   ]
  },
  {
   "cell_type": "markdown",
   "metadata": {},
   "source": [
    "#### 98. Considering a path described by two vectors (X,Y), how to sample it using equidistant samples "
   ]
  },
  {
   "cell_type": "code",
   "execution_count": 11,
   "metadata": {},
   "outputs": [
    {
     "name": "stdout",
     "output_type": "stream",
     "text": [
      "Sampled path:\n",
      "[[ 1.          3.        ]\n",
      " [ 1.44444444  3.88888889]\n",
      " [ 1.88888889  4.77777778]\n",
      " [ 2.66666667  5.66666667]\n",
      " [ 3.55555556  6.55555556]\n",
      " [ 4.44444444  7.44444444]\n",
      " [ 5.33333333  8.33333333]\n",
      " [ 6.22222222  9.22222222]\n",
      " [ 7.11111111 10.11111111]\n",
      " [ 8.         11.        ]]\n"
     ]
    }
   ],
   "source": [
    "import numpy as np\n",
    "\n",
    "# Example vectors X and Y\n",
    "X = np.array([1, 2, 4, 6, 8])\n",
    "Y = np.array([3, 5, 7, 9, 11])\n",
    "\n",
    "# Number of equidistant samples\n",
    "num_samples = 10\n",
    "\n",
    "# Linearly interpolate between points\n",
    "t = np.linspace(0, 1, num_samples)\n",
    "sampled_X = np.interp(t, np.linspace(0, 1, len(X)), X)\n",
    "sampled_Y = np.interp(t, np.linspace(0, 1, len(Y)), Y)\n",
    "\n",
    "# Combine X and Y coordinates\n",
    "sampled_path = np.column_stack((sampled_X, sampled_Y))\n",
    "\n",
    "print(\"Sampled path:\")\n",
    "print(sampled_path)\n"
   ]
  },
  {
   "cell_type": "markdown",
   "metadata": {},
   "source": [
    "#### 99. Given an integer n and a 2D array X, select from X the rows which can be interpreted as draws from a multinomial distribution with n degrees, i.e., the rows which only contain integers and which sum to n."
   ]
  },
  {
   "cell_type": "code",
   "execution_count": 12,
   "metadata": {},
   "outputs": [
    {
     "name": "stdout",
     "output_type": "stream",
     "text": [
      "Selected rows representing multinomial draws with sum 5\n",
      "[[0 3 2]\n",
      " [2 1 2]]\n"
     ]
    }
   ],
   "source": [
    "# Example 2D array X\n",
    "X = np.array([[1, 2, 3],\n",
    "              [0, 3, 2],\n",
    "              [2, 1, 2],\n",
    "              [3, 0, 1]])\n",
    "\n",
    "n = 5  # Desired sum of multinomial draws\n",
    "\n",
    "# Check if rows sum to n\n",
    "valid_rows = np.sum(X, axis=1) == n\n",
    "\n",
    "# Select valid rows\n",
    "selected_rows = X[valid_rows]\n",
    "\n",
    "print(\"Selected rows representing multinomial draws with sum\", n)\n",
    "print(selected_rows)\n"
   ]
  },
  {
   "cell_type": "markdown",
   "metadata": {},
   "source": [
    "#### 100. Compute bootstrapped 95% confidence intervals for the mean of a 1D array X (i.e., resample the elements of an array with replacement N times, compute the mean of each sample, and then compute percentiles over the means)."
   ]
  },
  {
   "cell_type": "code",
   "execution_count": 13,
   "metadata": {},
   "outputs": [
    {
     "name": "stdout",
     "output_type": "stream",
     "text": [
      "Bootstrapped 95% confidence interval for the mean of X:\n",
      "Lower bound: 9.5265\n",
      "Upper bound: 10.2628\n"
     ]
    }
   ],
   "source": [
    "# Example 1D array X (replace with your actual data)\n",
    "X = np.random.normal(loc=10, scale=2, size=100)\n",
    "\n",
    "# Number of bootstrap samples\n",
    "N = 1000\n",
    "\n",
    "# Resample with replacement\n",
    "bootstrap_means = np.mean(np.random.choice(X, size=(N, len(X))), axis=1)\n",
    "\n",
    "# Compute percentiles\n",
    "lower_percentile = np.percentile(bootstrap_means, 2.5)\n",
    "upper_percentile = np.percentile(bootstrap_means, 97.5)\n",
    "\n",
    "print(f\"Bootstrapped 95% confidence interval for the mean of X:\")\n",
    "print(f\"Lower bound: {lower_percentile:.4f}\")\n",
    "print(f\"Upper bound: {upper_percentile:.4f}\")\n"
   ]
  }
 ],
 "metadata": {
  "kernelspec": {
   "display_name": "Arewadatascience",
   "language": "python",
   "name": "python3"
  },
  "language_info": {
   "codemirror_mode": {
    "name": "ipython",
    "version": 3
   },
   "file_extension": ".py",
   "mimetype": "text/x-python",
   "name": "python",
   "nbconvert_exporter": "python",
   "pygments_lexer": "ipython3",
   "version": "3.8.18"
  }
 },
 "nbformat": 4,
 "nbformat_minor": 2
}
